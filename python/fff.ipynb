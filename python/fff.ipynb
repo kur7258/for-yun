{
 "cells": [
  {
   "cell_type": "code",
   "execution_count": 1,
   "metadata": {},
   "outputs": [],
   "source": [
    "import numpy as np"
   ]
  },
  {
   "cell_type": "code",
   "execution_count": 2,
   "metadata": {},
   "outputs": [
    {
     "name": "stdout",
     "output_type": "stream",
     "text": [
      "[1. 2.]\n",
      "[[1.]\n",
      " [2.]]\n",
      "(2, 1)\n",
      "[0 1 2 3 4]\n",
      "[1 3 5]\n"
     ]
    }
   ],
   "source": [
    "a = np.arange(1,3 , dtype = float)\n",
    "b = np.arange(1,3, dtype = float)\n",
    "print(a)\n",
    "print(a[:,np.newaxis])\n",
    "print(a[:,np.newaxis].shape)\n",
    "print(np.arange(5, dtype=int))\n",
    "print(np.arange(1,6,2,dtype = int))"
   ]
  },
  {
   "cell_type": "code",
   "execution_count": 3,
   "metadata": {},
   "outputs": [
    {
     "name": "stdout",
     "output_type": "stream",
     "text": [
      "[[1. 1. 1.]\n",
      " [1. 1. 1.]]\n",
      "[0 0 0 0 0 0 0]\n"
     ]
    }
   ],
   "source": [
    "print(np.ones((2,3), dtype=float))\n",
    "print(np.zeros(7,dtype=int))"
   ]
  },
  {
   "cell_type": "code",
   "execution_count": 4,
   "metadata": {},
   "outputs": [
    {
     "name": "stdout",
     "output_type": "stream",
     "text": [
      "[[0. 0. 0.]\n",
      " [0. 0. 0.]]\n",
      "[[1. 1. 1.]\n",
      " [1. 1. 1.]]\n"
     ]
    }
   ],
   "source": [
    "a=np.array([[1,2,3],[4,5,6]], float)\n",
    "print(np.zeros_like(a)) #이미 있는 원소를 0으로\n",
    "print(np.ones_like(a)) #이미 있는 원소를 1로"
   ]
  },
  {
   "cell_type": "code",
   "execution_count": 5,
   "metadata": {},
   "outputs": [
    {
     "name": "stdout",
     "output_type": "stream",
     "text": [
      "[[1. 0. 0. 0.]\n",
      " [0. 1. 0. 0.]\n",
      " [0. 0. 1. 0.]\n",
      " [0. 0. 0. 1.]]\n",
      "\n",
      "[[0. 1. 0. 0.]\n",
      " [0. 0. 1. 0.]\n",
      " [0. 0. 0. 1.]\n",
      " [0. 0. 0. 0.]]\n"
     ]
    }
   ],
   "source": [
    "print(np.identity(4,dtype=float)) #4x4의 배열을 대각 1로 채움\n",
    "print('')\n",
    "print(np.eye(4, k=1, dtype=float)) #4x4의 배열을 1칸 밀린 대각 1로 채움"
   ]
  },
  {
   "cell_type": "markdown",
   "metadata": {},
   "source": [
    "배열끼리 연산"
   ]
  },
  {
   "cell_type": "code",
   "execution_count": 6,
   "metadata": {},
   "outputs": [
    {
     "name": "stdout",
     "output_type": "stream",
     "text": [
      "[6. 4. 9.]\n",
      "[-4.  0. -3.]\n",
      "[ 5.  4. 18.]\n",
      "[5. 1. 2.]\n",
      "[  5.   4. 216.]\n"
     ]
    }
   ],
   "source": [
    "a = np.arange(1,4, dtype = float)\n",
    "b = np.array([5,2,6], float)\n",
    "print(a+b)\n",
    "print(a-b)\n",
    "print(a*b)\n",
    "print(b/a)\n",
    "print(b**a)"
   ]
  },
  {
   "cell_type": "code",
   "execution_count": 7,
   "metadata": {},
   "outputs": [
    {
     "name": "stdout",
     "output_type": "stream",
     "text": [
      "[[ 2.  0.]\n",
      " [ 3. 12.]]\n"
     ]
    }
   ],
   "source": [
    "a = np.array([[1,2],[3,4]], float)\n",
    "b = np.array([[2,0],[1,3]], float)\n",
    "print(a*b) #2차원도 연산 가능(열이 맞아야 가능)"
   ]
  },
  {
   "cell_type": "code",
   "execution_count": 8,
   "metadata": {},
   "outputs": [
    {
     "name": "stdout",
     "output_type": "stream",
     "text": [
      "[[1. 2.]\n",
      " [3. 4.]\n",
      " [5. 6.]]\n",
      "\n",
      "[-1.  3.]\n",
      "\n",
      "[[0. 5.]\n",
      " [2. 7.]\n",
      " [4. 9.]]\n"
     ]
    }
   ],
   "source": [
    "a = np.array([[1,2],[3,4],[5,6]], float)\n",
    "b = np.array([-1,3], float)\n",
    "print(a)\n",
    "print('')\n",
    "print(b)\n",
    "print('')\n",
    "print(a+b) #열이 맞으면 한 행으로 여러 행 연산 가능"
   ]
  },
  {
   "cell_type": "code",
   "execution_count": 9,
   "metadata": {},
   "outputs": [
    {
     "name": "stdout",
     "output_type": "stream",
     "text": [
      "[1. 2. 3.]\n",
      "[1. 1. 1.]\n",
      "[2. 2. 2.]\n",
      "[1. 2. 2.]\n",
      "3.141592653589793\n",
      "2.718281828459045\n"
     ]
    }
   ],
   "source": [
    "a = np.array([1,4,9],float)\n",
    "print(np.sqrt(a)) # 각 원소의 제곱근 반환\n",
    "\n",
    "a = np.array([1.1,1.5,1.9], float)\n",
    "print(np.floor(a)) #내림\n",
    "print(np.ceil(a)) #올림\n",
    "print(np.rint(a)) #반올림\n",
    "\n",
    "print(np.pi) #pi\n",
    "print(np.e) #자연상수 e"
   ]
  },
  {
   "cell_type": "code",
   "execution_count": 10,
   "metadata": {},
   "outputs": [
    {
     "name": "stdout",
     "output_type": "stream",
     "text": [
      "1\n",
      "4\n",
      "5\n"
     ]
    }
   ],
   "source": [
    "a = np.array([1,4,5], int)\n",
    "for x in a: #1차원 배열 차례로 출력\n",
    "    print(x)"
   ]
  },
  {
   "cell_type": "code",
   "execution_count": 11,
   "metadata": {},
   "outputs": [
    {
     "name": "stdout",
     "output_type": "stream",
     "text": [
      "[1. 2.]\n",
      "[3. 4.]\n",
      "[5. 6.]\n"
     ]
    }
   ],
   "source": [
    "a = np.array([[1,2],[3,4],[5,6]], float)\n",
    "for x in a : #2차원 배열 차례로 출력\n",
    "    print(x)"
   ]
  },
  {
   "cell_type": "code",
   "execution_count": 12,
   "metadata": {},
   "outputs": [
    {
     "name": "stdout",
     "output_type": "stream",
     "text": [
      "1.0\n",
      "\n",
      "2.0\n",
      "\n",
      "2.0\n",
      "3.0\n",
      "\n",
      "4.0\n",
      "\n",
      "12.0\n",
      "5.0\n",
      "\n",
      "6.0\n",
      "\n",
      "30.0\n"
     ]
    }
   ],
   "source": [
    "a = np.array([[1,2],[3,4],[5,6]], float)\n",
    "for x, y in a:\n",
    "    print(x)\n",
    "    print('')\n",
    "    print(y)\n",
    "    print('')\n",
    "    print(x*y)"
   ]
  },
  {
   "cell_type": "code",
   "execution_count": 13,
   "metadata": {},
   "outputs": [
    {
     "name": "stdout",
     "output_type": "stream",
     "text": [
      "9.0\n",
      "24.0\n",
      "9.0\n",
      "24.0\n"
     ]
    }
   ],
   "source": [
    "a = np.array([2,4,3], float)\n",
    "print(a.sum()) #전체 합\n",
    "print(a.prod()) #전체 곱\n",
    "print(np.sum(a))\n",
    "print(np.prod(a))"
   ]
  },
  {
   "cell_type": "code",
   "execution_count": 14,
   "metadata": {},
   "outputs": [
    {
     "name": "stdout",
     "output_type": "stream",
     "text": [
      "4.0\n",
      "12.666666666666666\n",
      "3.559026084010437\n"
     ]
    }
   ],
   "source": [
    "a = np.array([2,1,9], float)\n",
    "print(a.mean()) #평균\n",
    "print(a.var()) #분산\n",
    "print(a.std()) #표준편차"
   ]
  },
  {
   "cell_type": "code",
   "execution_count": 15,
   "metadata": {},
   "outputs": [
    {
     "name": "stdout",
     "output_type": "stream",
     "text": [
      "1.0\n",
      "9.0\n"
     ]
    }
   ],
   "source": [
    "a = np.array([2,1,9], float)\n",
    "print(a.min()) #최솟값\n",
    "print(a.max()) #최대값"
   ]
  },
  {
   "cell_type": "code",
   "execution_count": 16,
   "metadata": {},
   "outputs": [
    {
     "name": "stdout",
     "output_type": "stream",
     "text": [
      "1\n",
      "2\n"
     ]
    }
   ],
   "source": [
    "a = np.array([2,1,9], float)\n",
    "print(a.argmin()) #최소값의 offset\n",
    "print(a.argmax()) #최대값의 offset"
   ]
  },
  {
   "cell_type": "code",
   "execution_count": 21,
   "metadata": {},
   "outputs": [
    {
     "name": "stdout",
     "output_type": "stream",
     "text": [
      "[-1.0, 0.0, 2.0, 5.0, 6.0]\n",
      "[-1.  0.  2.  5.  6.]\n",
      "<class 'numpy.ndarray'>\n"
     ]
    }
   ],
   "source": [
    "a=np.array([6,2,5,-1,0], float)\n",
    "print(sorted(a)) #정렬된 새로운 공간 창출\n",
    "a.sort()\n",
    "print(a) #원래 있는 배열을 정렬\n",
    "print(type(a))"
   ]
  },
  {
   "cell_type": "code",
   "execution_count": 23,
   "metadata": {},
   "outputs": [
    {
     "name": "stdout",
     "output_type": "stream",
     "text": [
      "[ True False False]\n",
      "[False  True False]\n",
      "[False False  True]\n",
      "[ True False False]\n",
      "[False  True False]\n"
     ]
    }
   ],
   "source": [
    "a = np.array([1,3,0],float)\n",
    "b = np.array([0,3,2], float)\n",
    "\n",
    "print(a>b)\n",
    "print(a==b)\n",
    "print(b>a)\n",
    "\n",
    "c = a>b\n",
    "print(c)\n",
    "\n",
    "a = np.array([1,3,0], float)\n",
    "print(a>2)"
   ]
  },
  {
   "cell_type": "code",
   "execution_count": 25,
   "metadata": {},
   "outputs": [
    {
     "name": "stdout",
     "output_type": "stream",
     "text": [
      "True\n",
      "False\n"
     ]
    }
   ],
   "source": [
    "c = np.array([True, False, False], bool)\n",
    "\n",
    "print(any(c)) # 하나라도 True\n",
    "print(all(c)) # 모두 True"
   ]
  },
  {
   "cell_type": "code",
   "execution_count": 26,
   "metadata": {},
   "outputs": [
    {
     "name": "stdout",
     "output_type": "stream",
     "text": [
      "[ True False False]\n",
      "[False  True False]\n",
      "[ True  True  True]\n"
     ]
    }
   ],
   "source": [
    "a = np.array([1,3,0], int)\n",
    "print(np.logical_and(a>0, a<3)) #모든 조건 부합\n",
    "\n",
    "b=np.array([True, False, True], bool)\n",
    "print(np.logical_not(b)) #모든 조건 부정\n",
    "\n",
    "c = np.array([False, True, False], bool)\n",
    "print(np.logical_or(b,c)) #같은 열 중 하나라도 참이면"
   ]
  },
  {
   "cell_type": "code",
   "execution_count": 34,
   "metadata": {},
   "outputs": [
    {
     "name": "stdout",
     "output_type": "stream",
     "text": [
      "[6. 2. 0.]\n",
      "[7 7 2]\n"
     ]
    },
    {
     "name": "stderr",
     "output_type": "stream",
     "text": [
      "/home/kur/programming/anaconda3/lib/python3.7/site-packages/ipykernel_launcher.py:2: RuntimeWarning: divide by zero encountered in true_divide\n",
      "  \n"
     ]
    }
   ],
   "source": [
    "a = np.array([1,3,0], float)\n",
    "print(np.where(a !=0, 6 / a,a)) #0이 아닌 원소는 6/원소, 0인 원소는 그대로\n",
    "print(np.where(a>0,7,2)) #0보다 큰 원소는 7로, 아닌 원소는 2로 바꾼다"
   ]
  },
  {
   "cell_type": "code",
   "execution_count": 36,
   "metadata": {},
   "outputs": [
    {
     "name": "stdout",
     "output_type": "stream",
     "text": [
      "(array([0, 1]), array([1, 0]))\n"
     ]
    }
   ],
   "source": [
    "a = np.array([[0,1],[3,0]],float)\n",
    "print(a.nonzero()) #원소가 0이면 0으로 출력,0이 아니면 1로 출력"
   ]
  },
  {
   "cell_type": "code",
   "execution_count": 43,
   "metadata": {},
   "outputs": [
    {
     "name": "stdout",
     "output_type": "stream",
     "text": [
      "[ 1. nan inf]\n",
      "[False  True False]\n",
      "[ True False False]\n"
     ]
    }
   ],
   "source": [
    "a=np.array([1, np.NaN, np.Inf], float)\n",
    "print(a)\n",
    "print(np.isnan(a)) #원소가 숫자가 아닌지 확인\n",
    "print(np.isfinite(a)) #원소가 무한대가 아닌지 확인"
   ]
  },
  {
   "cell_type": "code",
   "execution_count": null,
   "metadata": {},
   "outputs": [],
   "source": []
  }
 ],
 "metadata": {
  "kernelspec": {
   "display_name": "Python 3",
   "language": "python",
   "name": "python3"
  },
  "language_info": {
   "codemirror_mode": {
    "name": "ipython",
    "version": 3
   },
   "file_extension": ".py",
   "mimetype": "text/x-python",
   "name": "python",
   "nbconvert_exporter": "python",
   "pygments_lexer": "ipython3",
   "version": "3.7.6"
  }
 },
 "nbformat": 4,
 "nbformat_minor": 4
}
