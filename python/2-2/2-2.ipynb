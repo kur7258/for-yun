{
 "cells": [
  {
   "cell_type": "markdown",
   "metadata": {},
   "source": [
    "self = 자기자신"
   ]
  },
  {
   "cell_type": "code",
   "execution_count": 8,
   "metadata": {},
   "outputs": [
    {
     "ename": "AttributeError",
     "evalue": "type object 'Person' has no attribute 'person'",
     "output_type": "error",
     "traceback": [
      "\u001b[0;31m---------------------------------------------------------------------------\u001b[0m",
      "\u001b[0;31mAttributeError\u001b[0m                            Traceback (most recent call last)",
      "\u001b[0;32m<ipython-input-8-af85d4b0fc1d>\u001b[0m in \u001b[0;36m<module>\u001b[0;34m\u001b[0m\n\u001b[1;32m      7\u001b[0m \u001b[0mperson2\u001b[0m \u001b[0;34m=\u001b[0m \u001b[0mPerson\u001b[0m\u001b[0;34m(\u001b[0m\u001b[0;34m'kim'\u001b[0m\u001b[0;34m,\u001b[0m\u001b[0;34m'19.12.31'\u001b[0m\u001b[0;34m)\u001b[0m\u001b[0;34m\u001b[0m\u001b[0m\n\u001b[1;32m      8\u001b[0m \u001b[0;34m\u001b[0m\u001b[0m\n\u001b[0;32m----> 9\u001b[0;31m \u001b[0mprint\u001b[0m\u001b[0;34m(\u001b[0m\u001b[0mPerson\u001b[0m\u001b[0;34m.\u001b[0m\u001b[0mperson\u001b[0m\u001b[0;34m)\u001b[0m\u001b[0;34m\u001b[0m\u001b[0m\n\u001b[0m",
      "\u001b[0;31mAttributeError\u001b[0m: type object 'Person' has no attribute 'person'"
     ]
    }
   ],
   "source": [
    "class Person():\n",
    "    def __init__(self, name, date):#초기화 method (매개변수 = 자기자신)\n",
    "        self.name = name\n",
    "        self.date = date\n",
    "        pass\n",
    "person = Person('jin','20.07.14')\n",
    "person2 = Person('kim','19.12.31')\n",
    "\n",
    "print(Person.person)"
   ]
  },
  {
   "cell_type": "code",
   "execution_count": 7,
   "metadata": {},
   "outputs": [
    {
     "ename": "IndentationError",
     "evalue": "expected an indented block (<ipython-input-7-73270dc59e83>, line 3)",
     "output_type": "error",
     "traceback": [
      "\u001b[0;36m  File \u001b[0;32m\"<ipython-input-7-73270dc59e83>\"\u001b[0;36m, line \u001b[0;32m3\u001b[0m\n\u001b[0;31m    def A():\u001b[0m\n\u001b[0m      ^\u001b[0m\n\u001b[0;31mIndentationError\u001b[0m\u001b[0;31m:\u001b[0m expected an indented block\n"
     ]
    }
   ],
   "source": [
    "class Car(): #부모클래스\n",
    "    def __init__(self):\n",
    "    def A():\n",
    "        self.abc\n",
    "   \n",
    "class Benz(Car): #자식클래스 (부모 내에 있는 데이터를 가져와 상속받음)\n",
    "    def __init__(self): #부모의 초기화 이후 자식에서 추가한 내용 초기화하는 함수\n",
    "        super().__init__() #suepr(부모)에 있는 __init__이라는 함수를 호출하겠다.\n",
    "    def B():\n",
    "        self.bcd\n",
    "    def A(): #오버라이딩\n",
    "    \n",
    "car = Car()\n",
    "car.abc\n",
    "benz = Benz() #자식클래스를 선언하면 자동으로 부모클래스도 선언됨(기능은 가지고 오지만 실체는 x)\n",
    "benz.abc\n",
    "benz.bcd\n",
    "car.A()#O\n",
    "car.B()#X\n",
    "benz.A()#O benz에 있는 A를 가져옴\n",
    "benz.B()#O\n",
    "benz.__init__()"
   ]
  },
  {
   "cell_type": "code",
   "execution_count": 18,
   "metadata": {},
   "outputs": [
    {
     "name": "stdout",
     "output_type": "stream",
     "text": [
      "getter\n"
     ]
    },
    {
     "data": {
      "text/plain": [
       "'Donald duck'"
      ]
     },
     "execution_count": 18,
     "metadata": {},
     "output_type": "execute_result"
    }
   ],
   "source": [
    "class Duck():\n",
    "    def __init__(self,input_name):\n",
    "        self.hidden_name= input_name\n",
    "    def get_name(self):\n",
    "        print('getter')\n",
    "        return self.hidden_name\n",
    "    def set_name(self, input_name):\n",
    "        print('setter')\n",
    "        self.hidden_name = input_name\n",
    "    name = property(get_name, set_name)\n",
    "        \n",
    "duck = Duck(\"Donald duck\" )\n",
    "duck.name"
   ]
  },
  {
   "cell_type": "markdown",
   "metadata": {},
   "source": [
    "private 네임 맹글링"
   ]
  },
  {
   "cell_type": "code",
   "execution_count": 20,
   "metadata": {},
   "outputs": [],
   "source": [
    "str == str2\n",
    "\n",
    "class Word(): #특수 method\n",
    "    def __init__(self, str):\n",
    "        self.str = str\n",
    "    def __eq__(self, str2): # ==를 아래와 같은 기능을 하게 만들어 줌\n",
    "        return self.str.lower() == str2.lower()\n",
    "\n",
    "    def equals(self, str2): # 두 비교대상을 모두 소문자로 만들어서 비교함\n",
    "        return self.str.lower() == str2.lower()\n",
    "\n",
    "str='ABC'\n",
    "str.lower()\n",
    "str2='abc'"
   ]
  },
  {
   "cell_type": "code",
   "execution_count": null,
   "metadata": {},
   "outputs": [],
   "source": [
    "tuple을 의미없는 offset으로 부르지 않고 의미가 있는 단어로 가져옴 (namedtuple도 내용이 변경되지 않음)"
   ]
  },
  {
   "cell_type": "code",
   "execution_count": 24,
   "metadata": {},
   "outputs": [
    {
     "name": "stdout",
     "output_type": "stream",
     "text": [
      "real\n",
      "63\n",
      "usa\n"
     ]
    }
   ],
   "source": [
    "tuple =('real',63,'usa')\n",
    "tuple[0]\n",
    "tuple[1]\n",
    "tuple[2]\n",
    "\n",
    "from collections import namedtuple\n",
    "#dict도 namedtuple할 수 있음\n",
    "Person = namedtuple('Person','name age nation') #space로 구분함\n",
    "person = Person('real',63,'usa')\n",
    "print(person.name)\n",
    "print(person.age)\n",
    "print(person.nation)"
   ]
  }
 ],
 "metadata": {
  "kernelspec": {
   "display_name": "Python 3",
   "language": "python",
   "name": "python3"
  },
  "language_info": {
   "codemirror_mode": {
    "name": "ipython",
    "version": 3
   },
   "file_extension": ".py",
   "mimetype": "text/x-python",
   "name": "python",
   "nbconvert_exporter": "python",
   "pygments_lexer": "ipython3",
   "version": "3.5.6"
  }
 },
 "nbformat": 4,
 "nbformat_minor": 4
}
