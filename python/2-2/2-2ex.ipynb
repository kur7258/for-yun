{
 "cells": [
  {
   "cell_type": "code",
   "execution_count": 15,
   "metadata": {},
   "outputs": [
    {
     "name": "stdout",
     "output_type": "stream",
     "text": [
      "<class '__main__.Thing'>\n",
      "<class '__main__.Thing'>\n"
     ]
    }
   ],
   "source": [
    "class Thing():\n",
    "    pass\n",
    "\n",
    "print(Thing)\n",
    "\n",
    "example = Thing() #객체\n",
    "print(example)"
   ]
  },
  {
   "cell_type": "code",
   "execution_count": 13,
   "metadata": {},
   "outputs": [
    {
     "name": "stdout",
     "output_type": "stream",
     "text": [
      "abc\n"
     ]
    }
   ],
   "source": [
    "class Thing2():\n",
    "    letters = 'abc' #attribute\n",
    "    \n",
    "print(Thing2.letters) # 객체.method"
   ]
  },
  {
   "cell_type": "code",
   "execution_count": 17,
   "metadata": {},
   "outputs": [
    {
     "name": "stdout",
     "output_type": "stream",
     "text": [
      "xyz\n"
     ]
    }
   ],
   "source": [
    "class Thing3(): #???\n",
    "    def __init__(self):\n",
    "        self.letters = 'xyz'\n",
    "        \n",
    "t3=Thing3()\n",
    "print(t3.letters)"
   ]
  },
  {
   "cell_type": "code",
   "execution_count": 103,
   "metadata": {},
   "outputs": [
    {
     "name": "stdout",
     "output_type": "stream",
     "text": [
      "get name\n",
      "Hydrogen\n",
      "get symbol\n",
      "H\n",
      "get number\n",
      "1\n"
     ]
    }
   ],
   "source": [
    "class Element():\n",
    "    def __init__(self,name,symbol,number): #초기화\n",
    "        self.hidden_name = name\n",
    "        self.hidden_symbol = symbol\n",
    "        self.hidden_number = number\n",
    "    \n",
    "    @property\n",
    "    def name(self):\n",
    "        print('get name')\n",
    "        return self.hidden_name\n",
    "        \n",
    "    @property    \n",
    "    def symbol(self):\n",
    "        print('get symbol')\n",
    "        return self.hidden_symbol\n",
    "       \n",
    "    @property \n",
    "    def number(self):\n",
    "        print('get number')\n",
    "        return self.hidden_number\n",
    "    \n",
    "    def __str__(self):\n",
    "        print(self.name, self.symbol, self.number)\n",
    "        \n",
    "    #def dump(self):\n",
    "        #print(self.name, self.symbol, self.number)\n",
    "        \n",
    "element=Element('Hydrogen','H',1)\n",
    "print(element.name)\n",
    "print(element.symbol)\n",
    "print(element.number)"
   ]
  },
  {
   "cell_type": "code",
   "execution_count": 104,
   "metadata": {},
   "outputs": [
    {
     "name": "stdout",
     "output_type": "stream",
     "text": [
      "get name\n",
      "Hydrogen\n",
      "get symbol\n",
      "H\n",
      "get number\n",
      "2\n"
     ]
    }
   ],
   "source": [
    "el_dict={\n",
    "    'name':'Hydrogen',\n",
    "    'symbol':'H',\n",
    "    'number': 2\n",
    "}\n",
    "hydrogen=Element(**el_dict) #el_dict를 Element class에 할당\n",
    "print(hydrogen.name)\n",
    "print(hydrogen.symbol)\n",
    "print(hydrogen.number)"
   ]
  },
  {
   "cell_type": "code",
   "execution_count": 105,
   "metadata": {},
   "outputs": [
    {
     "ename": "AttributeError",
     "evalue": "'Element' object has no attribute 'dump'",
     "output_type": "error",
     "traceback": [
      "\u001b[0;31m---------------------------------------------------------------------------\u001b[0m",
      "\u001b[0;31mAttributeError\u001b[0m                            Traceback (most recent call last)",
      "\u001b[0;32m<ipython-input-105-7d59e6a89f4a>\u001b[0m in \u001b[0;36m<module>\u001b[0;34m\u001b[0m\n\u001b[0;32m----> 1\u001b[0;31m \u001b[0mhydrogen\u001b[0m\u001b[0;34m.\u001b[0m\u001b[0mdump\u001b[0m\u001b[0;34m(\u001b[0m\u001b[0;34m)\u001b[0m \u001b[0;31m#dump용\u001b[0m\u001b[0;34m\u001b[0m\u001b[0m\n\u001b[0m",
      "\u001b[0;31mAttributeError\u001b[0m: 'Element' object has no attribute 'dump'"
     ]
    }
   ],
   "source": [
    "hydrogen.dump() #dump용"
   ]
  },
  {
   "cell_type": "code",
   "execution_count": 106,
   "metadata": {},
   "outputs": [
    {
     "name": "stdout",
     "output_type": "stream",
     "text": [
      "get name\n",
      "get symbol\n",
      "get number\n",
      "Hydrogen H 2\n"
     ]
    },
    {
     "ename": "TypeError",
     "evalue": "__str__ returned non-string (type NoneType)",
     "output_type": "error",
     "traceback": [
      "\u001b[0;31m---------------------------------------------------------------------------\u001b[0m",
      "\u001b[0;31mTypeError\u001b[0m                                 Traceback (most recent call last)",
      "\u001b[0;32m<ipython-input-106-bb93c9f95b14>\u001b[0m in \u001b[0;36m<module>\u001b[0;34m\u001b[0m\n\u001b[0;32m----> 1\u001b[0;31m \u001b[0mprint\u001b[0m\u001b[0;34m(\u001b[0m\u001b[0mhydrogen\u001b[0m\u001b[0;34m)\u001b[0m \u001b[0;31m#__str__ 용\u001b[0m\u001b[0;34m\u001b[0m\u001b[0m\n\u001b[0m",
      "\u001b[0;31mTypeError\u001b[0m: __str__ returned non-string (type NoneType)"
     ]
    }
   ],
   "source": [
    "print(hydrogen) #__str__ 용"
   ]
  },
  {
   "cell_type": "code",
   "execution_count": 115,
   "metadata": {},
   "outputs": [
    {
     "name": "stdout",
     "output_type": "stream",
     "text": [
      "<bound method Bear.eats of <__main__.Bear object at 0x7fbd5c585470>>\n"
     ]
    }
   ],
   "source": [
    "class Bear():\n",
    "    def eats(self):\n",
    "        return 'berries'\n",
    "    \n",
    "class Rabbit():\n",
    "    def eats(self):\n",
    "        return 'clover'\n",
    "    \n",
    "class Octothorpe():\n",
    "    def eats(self):\n",
    "        return 'campers'\n",
    "    \n",
    "bear=Bear()\n",
    "rabbit=Rabbit()\n",
    "octo=Octothorpe()\n",
    "print(bear.eats)"
   ]
  },
  {
   "cell_type": "code",
   "execution_count": null,
   "metadata": {},
   "outputs": [],
   "source": []
  }
 ],
 "metadata": {
  "kernelspec": {
   "display_name": "Python 3",
   "language": "python",
   "name": "python3"
  },
  "language_info": {
   "codemirror_mode": {
    "name": "ipython",
    "version": 3
   },
   "file_extension": ".py",
   "mimetype": "text/x-python",
   "name": "python",
   "nbconvert_exporter": "python",
   "pygments_lexer": "ipython3",
   "version": "3.5.6"
  }
 },
 "nbformat": 4,
 "nbformat_minor": 4
}
