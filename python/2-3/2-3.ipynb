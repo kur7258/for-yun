{
 "cells": [
  {
   "cell_type": "code",
   "execution_count": 15,
   "metadata": {},
   "outputs": [
    {
     "name": "stdout",
     "output_type": "stream",
     "text": [
      "value : \"a\", name : \"LATIN SMALL LETTER A\", value2 : \"a\"\n"
     ]
    }
   ],
   "source": [
    "def unicode_test(value):\n",
    "    import unicodedata\n",
    "    name = unicodedata.name(value) #문자의 종류와 대문자 반환\n",
    "    value2 = unicodedata.lookup(name)#지정된 문자 반환\n",
    "    print('value : \"%s\", name : \"%s\", value2 : \"%s\"'%(value, name, value2))\n",
    "\n",
    "unicode_test('a')"
   ]
  },
  {
   "cell_type": "code",
   "execution_count": 16,
   "metadata": {},
   "outputs": [
    {
     "name": "stdout",
     "output_type": "stream",
     "text": [
      "b'a'\n",
      "a\n"
     ]
    }
   ],
   "source": [
    "snowman='a'\n",
    "ds = snowman.encode('utf-8') #unicode 형태로 encode\n",
    "print(ds)\n",
    "\n",
    "snowman2 = ds.decode('utf-8') #unicode 형태로 decode\n",
    "print(snowman2)"
   ]
  },
  {
   "cell_type": "markdown",
   "metadata": {},
   "source": [
    "쓰레기같이 가독성 안 좋은 C스타일 버리고 python3의 새로운 format 스타일"
   ]
  },
  {
   "cell_type": "code",
   "execution_count": 71,
   "metadata": {},
   "outputs": [
    {
     "ename": "KeyError",
     "evalue": "'name'",
     "output_type": "error",
     "traceback": [
      "\u001b[0;31m---------------------------------------------------------------------------\u001b[0m",
      "\u001b[0;31mKeyError\u001b[0m                                  Traceback (most recent call last)",
      "\u001b[0;32m<ipython-input-71-e26176dcf4f7>\u001b[0m in \u001b[0;36m<module>\u001b[0;34m\u001b[0m\n\u001b[1;32m      4\u001b[0m \u001b[0;34m'{} {} {}'\u001b[0m\u001b[0;34m.\u001b[0m\u001b[0mformat\u001b[0m\u001b[0;34m(\u001b[0m\u001b[0mname\u001b[0m\u001b[0;34m,\u001b[0m\u001b[0mfemale\u001b[0m\u001b[0;34m,\u001b[0m\u001b[0mschool\u001b[0m\u001b[0;34m)\u001b[0m \u001b[0;31m# 각 {}마다 순서대로 삽입 (소괄호 안의 변수들은 offset이 붙음)\u001b[0m\u001b[0;34m\u001b[0m\u001b[0m\n\u001b[1;32m      5\u001b[0m \u001b[0;34m'{2} {0} {1}'\u001b[0m\u001b[0;34m.\u001b[0m\u001b[0mformat\u001b[0m\u001b[0;34m(\u001b[0m\u001b[0mname\u001b[0m\u001b[0;34m,\u001b[0m\u001b[0mfemale\u001b[0m\u001b[0;34m,\u001b[0m\u001b[0mschool\u001b[0m\u001b[0;34m)\u001b[0m\u001b[0;34m\u001b[0m\u001b[0m\n\u001b[0;32m----> 6\u001b[0;31m \u001b[0;34m'{name} {school} {female}'\u001b[0m\u001b[0;34m.\u001b[0m\u001b[0mformat\u001b[0m\u001b[0;34m(\u001b[0m\u001b[0mname\u001b[0m\u001b[0;34m,\u001b[0m\u001b[0mfemale\u001b[0m\u001b[0;34m,\u001b[0m\u001b[0mschool\u001b[0m\u001b[0;34m)\u001b[0m\u001b[0;34m\u001b[0m\u001b[0m\n\u001b[0m\u001b[1;32m      7\u001b[0m \u001b[0;34m\u001b[0m\u001b[0m\n\u001b[1;32m      8\u001b[0m dic = {\n",
      "\u001b[0;31mKeyError\u001b[0m: 'name'"
     ]
    }
   ],
   "source": [
    "name = 'jin'\n",
    "female = 'yes'\n",
    "school = 'ch'\n",
    "'{} {} {}'.format(name,female,school) # 각 {}마다 순서대로 삽입 (소괄호 안의 변수들은 offset이 붙음)\n",
    "'{2} {0} {1}'.format(name,female,school) \n",
    "'{name} {school} {female}'.format(name,female,school)\n",
    "\n",
    "dic = {\n",
    "    'name':'jin',\n",
    "    'female':'yes',\n",
    "    'school':'changwon'\n",
    "}\n",
    "'{0[school]} {0[name]} {0[female]}'.format(**dic)\n",
    "\n"
   ]
  },
  {
   "cell_type": "code",
   "execution_count": 54,
   "metadata": {},
   "outputs": [
    {
     "ename": "IndexError",
     "evalue": "tuple index out of range",
     "output_type": "error",
     "traceback": [
      "\u001b[0;31m---------------------------------------------------------------------------\u001b[0m",
      "\u001b[0;31mIndexError\u001b[0m                                Traceback (most recent call last)",
      "\u001b[0;32m<ipython-input-54-91e950201981>\u001b[0m in \u001b[0;36m<module>\u001b[0;34m\u001b[0m\n\u001b[0;32m----> 1\u001b[0;31m \u001b[0;34m'{2:<10.1f}{1:10d}{0:10.3s}'\u001b[0m\u001b[0;34m.\u001b[0m\u001b[0mformat\u001b[0m\u001b[0;34m(\u001b[0m\u001b[0mname\u001b[0m\u001b[0;34m=\u001b[0m\u001b[0;34m'kim'\u001b[0m\u001b[0;34m,\u001b[0m \u001b[0mage\u001b[0m\u001b[0;34m=\u001b[0m\u001b[0;36m1\u001b[0m\u001b[0;34m,\u001b[0m \u001b[0mweight\u001b[0m\u001b[0;34m=\u001b[0m\u001b[0;36m70\u001b[0m\u001b[0;34m)\u001b[0m \u001b[0;31m#자릿수 및 타입 정해줌 /10자리의 왼쪽정렬 소숫점 1자리의flaot /10자리의 int /10자리의 앞에서부터 3자리의 string\u001b[0m\u001b[0;34m\u001b[0m\u001b[0m\n\u001b[0m",
      "\u001b[0;31mIndexError\u001b[0m: tuple index out of range"
     ]
    }
   ],
   "source": [
    "'{2:<10.1f}{1:10d}{0:10.3s}'.format(name='kim', age=1, weight=70) #자릿수 및 타입 정해줌 /10자리의 왼쪽정렬 소숫점 1자리의flaot /10자리의 int /10자리의 앞에서부터 3자리의 string"
   ]
  },
  {
   "cell_type": "code",
   "execution_count": 31,
   "metadata": {},
   "outputs": [
    {
     "data": {
      "text/plain": [
       "'!!!!!!!!SALE!!!!!!!!'"
      ]
     },
     "execution_count": 31,
     "metadata": {},
     "output_type": "execute_result"
    }
   ],
   "source": [
    "'{0:!^20s}'.format('SALE') #20개의 !의 가운데에 SALE 출력"
   ]
  },
  {
   "cell_type": "code",
   "execution_count": 34,
   "metadata": {},
   "outputs": [
    {
     "data": {
      "text/plain": [
       "'427.03string cheese'"
      ]
     },
     "execution_count": 34,
     "metadata": {},
     "output_type": "execute_result"
    }
   ],
   "source": [
    "'{ne}{fe}{se}'.format(ne=42, fe=7.03, se='string cheese')"
   ]
  },
  {
   "cell_type": "code",
   "execution_count": 49,
   "metadata": {},
   "outputs": [
    {
     "name": "stdout",
     "output_type": "stream",
     "text": [
      "<_sre.SRE_Match object; span=(0, 3), match='You'>\n"
     ]
    }
   ],
   "source": [
    "import re\n",
    "result = re.match('You','Young what') #두 원소의 시작부분이 같은지 구분\n",
    "print(result)"
   ]
  },
  {
   "cell_type": "code",
   "execution_count": 50,
   "metadata": {},
   "outputs": [
    {
     "name": "stdout",
     "output_type": "stream",
     "text": [
      "<_sre.SRE_Match object; span=(7, 12), match='Frank'>\n"
     ]
    }
   ],
   "source": [
    "result = re.search('Frank','Youung Frankenstein') #두 원소의 전체 중 같은 부분이 있는지 확인\n",
    "print(result)"
   ]
  },
  {
   "cell_type": "code",
   "execution_count": 64,
   "metadata": {},
   "outputs": [
    {
     "name": "stdout",
     "output_type": "stream",
     "text": [
      "['n', 'n', 'n', 'n']\n"
     ]
    },
    {
     "data": {
      "text/plain": [
       "4"
      ]
     },
     "execution_count": 64,
     "metadata": {},
     "output_type": "execute_result"
    }
   ],
   "source": [
    "result = re.findall('n','Youung Frankenstein') #두 원소의 전체 중 같은 부분이 있는지 확인해서 있는 거 다 출력\n",
    "print(result)\n",
    "len(result)"
   ]
  },
  {
   "cell_type": "markdown",
   "metadata": {},
   "source": [
    "정규표현식은 책으로 보자 너무 길다"
   ]
  }
 ],
 "metadata": {
  "kernelspec": {
   "display_name": "Python 3",
   "language": "python",
   "name": "python3"
  },
  "language_info": {
   "codemirror_mode": {
    "name": "ipython",
    "version": 3
   },
   "file_extension": ".py",
   "mimetype": "text/x-python",
   "name": "python",
   "nbconvert_exporter": "python",
   "pygments_lexer": "ipython3",
   "version": "3.5.6"
  }
 },
 "nbformat": 4,
 "nbformat_minor": 4
}
