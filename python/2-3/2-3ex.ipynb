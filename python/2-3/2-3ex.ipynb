{
 "cells": [
  {
   "cell_type": "code",
   "execution_count": 12,
   "metadata": {
    "scrolled": true
   },
   "outputs": [
    {
     "name": "stdout",
     "output_type": "stream",
     "text": [
      "b'\\xf0\\x9f\\x92\\xa9'\n",
      "💩\n"
     ]
    }
   ],
   "source": [
    "mystery = '\\U0001f4a9'\n",
    "test = mystery.encode('utf-8')\n",
    "print(test)\n",
    "print(test.decode('utf-8'))"
   ]
  },
  {
   "cell_type": "code",
   "execution_count": 14,
   "metadata": {},
   "outputs": [
    {
     "name": "stdout",
     "output_type": "stream",
     "text": [
      "b'\\xf0\\x9f\\x92\\xa9'\n"
     ]
    }
   ],
   "source": [
    "pop_bytes = mystery.encode('utf-8')\n",
    "print(pop_bytes)"
   ]
  },
  {
   "cell_type": "code",
   "execution_count": 16,
   "metadata": {},
   "outputs": [
    {
     "name": "stdout",
     "output_type": "stream",
     "text": [
      "💩\n"
     ]
    }
   ],
   "source": [
    "pop_string = pop_bytes.decode('utf-8')\n",
    "print(pop_string)"
   ]
  },
  {
   "cell_type": "code",
   "execution_count": 22,
   "metadata": {},
   "outputs": [
    {
     "name": "stdout",
     "output_type": "stream",
     "text": [
      "My kitty cat likes roast beef,\n",
      "My kitty cat likes ham,\n",
      "My kitty cat fell on his head,\n",
      "And now thinks he's a clam.\n"
     ]
    }
   ],
   "source": [
    "print('''My kitty cat likes %s,\n",
    "My kitty cat likes %s,\n",
    "My kitty cat fell on his %s,\n",
    "And now thinks he's a %s.''' %('roast beef', 'ham', 'head', 'clam'))"
   ]
  },
  {
   "cell_type": "code",
   "execution_count": 29,
   "metadata": {},
   "outputs": [],
   "source": [
    "letter = '''Dear {salutation} {name},\n",
    "\n",
    "Thank you for your letter. We are sorry that our {product} {verbed} in your\n",
    "{room}. Please note that it should never be used in a {room}, especially\n",
    "near any {animals}.\n",
    "\n",
    "Send us your receipt and {amount} for shipping and handling. We will send\n",
    "you another {product} that, in our tests, is {percent}% less likely to\n",
    "have {verbed}.\n",
    "\n",
    "Sincerely,\n",
    "{spokesman}\n",
    "{job_title}'''"
   ]
  },
  {
   "cell_type": "code",
   "execution_count": 30,
   "metadata": {},
   "outputs": [],
   "source": [
    "response = {\n",
    "    'salutation':1,\n",
    "    'name':2,\n",
    "    'product':3,\n",
    "    'verbed':4,\n",
    "    'room':5,\n",
    "    'animals':6,\n",
    "    'amount':7,\n",
    "    'percent':8,\n",
    "    'spokesman':9,\n",
    "    'job_title':10\n",
    "}"
   ]
  },
  {
   "cell_type": "code",
   "execution_count": 32,
   "metadata": {},
   "outputs": [
    {
     "name": "stdout",
     "output_type": "stream",
     "text": [
      "Dear 1 2,\n",
      "\n",
      "Thank you for your letter. We are sorry that our 3 4 in your\n",
      "5. Please note that it should never be used in a 5, especially\n",
      "near any 6.\n",
      "\n",
      "Send us your receipt and 7 for shipping and handling. We will send\n",
      "you another 3 that, in our tests, is 8% less likely to\n",
      "have 4.\n",
      "\n",
      "Sincerely,\n",
      "9\n",
      "10\n"
     ]
    }
   ],
   "source": [
    "print(letter.format(**response))"
   ]
  },
  {
   "cell_type": "code",
   "execution_count": 33,
   "metadata": {},
   "outputs": [],
   "source": [
    "mammoth = '''We have seen the Queen of cheese,\n",
    "Laying quietly at your ease,\n",
    "Gently fanned by evening breeze\n",
    "Thy fair form no flies dare seize.\n",
    "\n",
    "All gaily dressed soon you'll go\n",
    "To the great Provincial Show,\n",
    "To be admired by many a beau\n",
    "In the city of Toronto.\n",
    "\n",
    "Cows numerous as a swarm of bees\n",
    "Or as the leaves upon the trees\n",
    "It did require to make thee please,\n",
    "And stand unrivalled Queen of Cheese.\n",
    "\n",
    "May you not receive a scar as\n",
    "We have heard that Mr. Harris\n",
    "Intends to send you off as far as\n",
    "The great World's show at Paris.\n",
    "\n",
    "Of the youth beware of these\n",
    "For some of them might rudely squeeze\n",
    "And bite your cheek; then songs or glees\n",
    "We could not sing o' Queen of Cheese.\n",
    "\n",
    "We'rt thou suspended from baloon,\n",
    "You'd cast a shade, even at noon;\n",
    "Folks would think it was the moon\n",
    "About to fall and crush them soon. '''"
   ]
  },
  {
   "cell_type": "code",
   "execution_count": 43,
   "metadata": {},
   "outputs": [
    {
     "data": {
      "text/plain": [
       "['cheese,',\n",
       " 'cial Show,',\n",
       " 'city of Toronto.',\n",
       " 'ceive a scar as',\n",
       " 'cheek; then songs or glees',\n",
       " \"could not sing o' Queen of Cheese.\",\n",
       " 'cast a shade, even at noon;',\n",
       " 'crush them soon. ']"
      ]
     },
     "execution_count": 43,
     "metadata": {},
     "output_type": "execute_result"
    }
   ],
   "source": [
    "import re\n",
    "re.findall('c.*',mammoth)"
   ]
  },
  {
   "cell_type": "code",
   "execution_count": null,
   "metadata": {},
   "outputs": [],
   "source": [
    "re.findall(c)"
   ]
  }
 ],
 "metadata": {
  "kernelspec": {
   "display_name": "Python 3",
   "language": "python",
   "name": "python3"
  },
  "language_info": {
   "codemirror_mode": {
    "name": "ipython",
    "version": 3
   },
   "file_extension": ".py",
   "mimetype": "text/x-python",
   "name": "python",
   "nbconvert_exporter": "python",
   "pygments_lexer": "ipython3",
   "version": "3.5.6"
  }
 },
 "nbformat": 4,
 "nbformat_minor": 4
}
