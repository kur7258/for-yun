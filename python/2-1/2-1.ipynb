{
 "cells": [
  {
   "cell_type": "code",
   "execution_count": 36,
   "metadata": {},
   "outputs": [
    {
     "name": "stdout",
     "output_type": "stream",
     "text": [
      "dict_items([('eggs', 1), ('spam', 3)])\n",
      "eggs 1\n",
      "spam 3\n"
     ]
    }
   ],
   "source": [
    "from collections import defaultdict#python 기본 module의 defaultdict 활성화\n",
    "food_counter = defaultdict(int)\n",
    "for food in ['spam','spam','eggs','spam']: #defaultdict로 conter 기능 하게 만들기 예제\n",
    "    food_counter[food]+=1\n",
    "print(food_counter.items())    \n",
    "\n",
    "for food,count in food_counter.items():\n",
    "    print(food,count)"
   ]
  },
  {
   "cell_type": "code",
   "execution_count": 37,
   "metadata": {},
   "outputs": [
    {
     "data": {
      "text/plain": [
       "Counter({'eggs': 1, 'spam': 3})"
      ]
     },
     "execution_count": 37,
     "metadata": {},
     "output_type": "execute_result"
    }
   ],
   "source": [
    "from collections import Counter#python 기본 module의 counter 활성화\n",
    "breakfast = ['spam','spam','eggs','spam']\n",
    "breakfast_counter = Counter(breakfast) #list의 counter 기본 형태 예제\n",
    "breakfast_counter"
   ]
  },
  {
   "cell_type": "code",
   "execution_count": 38,
   "metadata": {},
   "outputs": [
    {
     "name": "stdout",
     "output_type": "stream",
     "text": [
      "[('spam', 3), ('eggs', 1)]\n",
      "[('spam', 3)]\n"
     ]
    }
   ],
   "source": [
    "print(breakfast_counter.most_common()) #counter 요소를 내림차순으로 반환해주는 함수 .most_common()\n",
    "\n",
    "print(breakfast_counter.most_common(1)) #인자로 정수를 주면 그 숫자만큼 상위 요소 반환"
   ]
  },
  {
   "cell_type": "code",
   "execution_count": 39,
   "metadata": {},
   "outputs": [
    {
     "ename": "SyntaxError",
     "evalue": "invalid syntax (<ipython-input-39-f7d421416c8d>, line 3)",
     "output_type": "error",
     "traceback": [
      "\u001b[0;36m  File \u001b[0;32m\"<ipython-input-39-f7d421416c8d>\"\u001b[0;36m, line \u001b[0;32m3\u001b[0m\n\u001b[0;31m    dic = OrderedDict(['a', 1),('b', 2),('c', 3)]) #수정\u001b[0m\n\u001b[0m                             ^\u001b[0m\n\u001b[0;31mSyntaxError\u001b[0m\u001b[0;31m:\u001b[0m invalid syntax\n"
     ]
    }
   ],
   "source": [
    "from collections import OrderedDict #dict를 순서대로 정렬시켜주는 module\n",
    "\n",
    "dic = OrderedDict(['a', 1),('b', 2),('c', 3)]) #수정"
   ]
  },
  {
   "cell_type": "markdown",
   "metadata": {},
   "source": [
    "스택 = FILO 큐 = FIFO 데크 = 양방향 출입"
   ]
  },
  {
   "cell_type": "code",
   "execution_count": 40,
   "metadata": {},
   "outputs": [
    {
     "name": "stdout",
     "output_type": "stream",
     "text": [
      "True\n",
      "True\n",
      "False\n"
     ]
    }
   ],
   "source": [
    "def palindrome(word):# deque를 import 해서 회문을 구별하는 함수\n",
    "    from collections import deque\n",
    "    dq = deque(word)\n",
    "    while len(dq) > 1:\n",
    "        if dq.popleft() != dq.pop(): # popleft는 왼쪽에서 뽑 pop은 오른쪽에서 뽑\n",
    "            return False\n",
    "    return True\n",
    "print(palindrome('a'))\n",
    "print(palindrome('aba'))\n",
    "print(palindrome('abc'))"
   ]
  },
  {
   "cell_type": "code",
   "execution_count": 41,
   "metadata": {},
   "outputs": [
    {
     "ename": "SyntaxError",
     "evalue": "'return' outside function (<ipython-input-41-a8658beaf30f>, line 3)",
     "output_type": "error",
     "traceback": [
      "\u001b[0;36m  File \u001b[0;32m\"<ipython-input-41-a8658beaf30f>\"\u001b[0;36m, line \u001b[0;32m3\u001b[0m\n\u001b[0;31m    return True\u001b[0m\n\u001b[0m    ^\u001b[0m\n\u001b[0;31mSyntaxError\u001b[0m\u001b[0;31m:\u001b[0m 'return' outside function\n"
     ]
    }
   ],
   "source": [
    "word = 'aba' \n",
    "if word == word[::-1]: # 회문 구별(deque 사용 x)\n",
    "    return True"
   ]
  },
  {
   "cell_type": "code",
   "execution_count": 42,
   "metadata": {},
   "outputs": [
    {
     "ename": "SyntaxError",
     "evalue": "EOL while scanning string literal (<ipython-input-42-f3d39d60c1cf>, line 2)",
     "output_type": "error",
     "traceback": [
      "\u001b[0;36m  File \u001b[0;32m\"<ipython-input-42-f3d39d60c1cf>\"\u001b[0;36m, line \u001b[0;32m2\u001b[0m\n\u001b[0;31m    for item in itertools.chain([1,2],['a','b]):\u001b[0m\n\u001b[0m                                                ^\u001b[0m\n\u001b[0;31mSyntaxError\u001b[0m\u001b[0;31m:\u001b[0m EOL while scanning string literal\n"
     ]
    }
   ],
   "source": [
    "import itertools\n",
    "for item in itertools.chain([1,2],['a','b]):\n",
    "                                   print('no')"
   ]
  },
  {
   "cell_type": "code",
   "execution_count": 43,
   "metadata": {},
   "outputs": [
    {
     "name": "stdout",
     "output_type": "stream",
     "text": [
      "1\n",
      "2\n",
      "6\n",
      "24\n"
     ]
    }
   ],
   "source": [
    "import itertools \n",
    "def mul(a,b):\n",
    "    return a*b\n",
    "\n",
    "for item in itertools.accumulate([1,2,3,4],mul): #mul함수를 사용해서 첫 원소부터 끝 원소까지 중첩\n",
    "    print(item)"
   ]
  },
  {
   "cell_type": "code",
   "execution_count": 13,
   "metadata": {},
   "outputs": [
    {
     "name": "stdout",
     "output_type": "stream",
     "text": [
      "OrderedDict([('Moe', 'A wise guy'), ('Larry', 'Ow'), ('Curly', 'Nyuk nyuk')])\n",
      "OrderedDict([('Moe', 'A wise guy'),\n",
      "             ('Larry', 'Ow'),\n",
      "             ('Curly', 'Nyuk nyuk')])\n"
     ]
    }
   ],
   "source": [
    "from collections import OrderedDict\n",
    "from pprint import pprint\n",
    "\n",
    "quotes = OrderedDict([\n",
    "    ('Moe', \"A wise guy\"),\n",
    "    ('Larry', 'Ow'),\n",
    "    ('Curly', 'Nyuk nyuk')\n",
    "])\n",
    "print(quotes)\n",
    "\n",
    "pprint(quotes,width=40)"
   ]
  }
 ],
 "metadata": {
  "kernelspec": {
   "display_name": "Python 3",
   "language": "python",
   "name": "python3"
  },
  "language_info": {
   "codemirror_mode": {
    "name": "ipython",
    "version": 3
   },
   "file_extension": ".py",
   "mimetype": "text/x-python",
   "name": "python",
   "nbconvert_exporter": "python",
   "pygments_lexer": "ipython3",
   "version": "3.7.6"
  }
 },
 "nbformat": 4,
 "nbformat_minor": 4
}
